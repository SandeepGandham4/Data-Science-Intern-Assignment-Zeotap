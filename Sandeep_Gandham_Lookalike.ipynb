{
  "nbformat": 4,
  "nbformat_minor": 0,
  "metadata": {
    "colab": {
      "provenance": [],
      "authorship_tag": "ABX9TyN33AGfeQlbCCWZA0V0yNON",
      "include_colab_link": true
    },
    "kernelspec": {
      "name": "python3",
      "display_name": "Python 3"
    },
    "language_info": {
      "name": "python"
    }
  },
  "cells": [
    {
      "cell_type": "markdown",
      "metadata": {
        "id": "view-in-github",
        "colab_type": "text"
      },
      "source": [
        "<a href=\"https://colab.research.google.com/github/SandeepGandham4/Data-Science-Intern-Assignment-Zeotap/blob/main/Sandeep_Gandham_Lookalike.ipynb\" target=\"_parent\"><img src=\"https://colab.research.google.com/assets/colab-badge.svg\" alt=\"Open In Colab\"/></a>"
      ]
    },
    {
      "cell_type": "markdown",
      "source": [
        "Task 2: Lookalike Model"
      ],
      "metadata": {
        "id": "0MyBQt4jhOv-"
      }
    },
    {
      "cell_type": "code",
      "source": [
        "import pandas as pd\n",
        "import matplotlib.pyplot as plt\n",
        "import seaborn as sns\n",
        "from sklearn.metrics.pairwise import cosine_similarity\n",
        "from sklearn.preprocessing import StandardScaler\n",
        "\n",
        "# Load Data (Replace with actual file paths)\n",
        "customers = pd.read_csv('Customers.csv')\n",
        "transactions = pd.read_csv('Transactions.csv')\n",
        "products = pd.read_csv('Products.csv')\n",
        "\n",
        "# Merge Data\n",
        "transactions = transactions.merge(products, on=\"ProductID\", how=\"left\")\n",
        "data = transactions.merge(customers, on=\"CustomerID\", how=\"left\")\n",
        "\n",
        "# Feature Engineering\n",
        "customer_features = data.groupby(\"CustomerID\").agg(\n",
        "    total_spending=(\"TotalValue\", \"sum\"),\n",
        "    avg_transaction_value=(\"TotalValue\", \"mean\"),\n",
        "    total_transactions=(\"TransactionID\", \"count\")\n",
        ").reset_index()\n",
        "\n",
        "# Find the favorite category for each customer\n",
        "favorite_category = (\n",
        "    data.groupby([\"CustomerID\", \"Category\"])\n",
        "    .size()\n",
        "    .reset_index(name=\"count\")\n",
        "    .sort_values([\"CustomerID\", \"count\"], ascending=[True, False])\n",
        "    .drop_duplicates(subset=[\"CustomerID\"])\n",
        ")\n",
        "\n",
        "# Merge favorite category into customer features\n",
        "customer_features = customer_features.merge(\n",
        "    favorite_category[[\"CustomerID\", \"Category\"]].rename(columns={\"Category\": \"favorite_category\"}),\n",
        "    on=\"CustomerID\",\n",
        "    how=\"left\"\n",
        ")\n",
        "\n",
        "# One-hot encode the 'favorite_category' column\n",
        "customer_features = pd.get_dummies(customer_features, columns=[\"favorite_category\"], drop_first=True)\n",
        "\n",
        "# Standardize Features\n",
        "scaler = StandardScaler()\n",
        "scaled_features = scaler.fit_transform(customer_features.iloc[:, 1:])  # Exclude CustomerID\n",
        "\n",
        "# Compute Similarities\n",
        "similarity_matrix = cosine_similarity(scaled_features)\n",
        "\n",
        "# Generate Recommendations\n",
        "lookalike_map = {}\n",
        "customer_ids = customer_features[\"CustomerID\"].values\n",
        "for idx, customer_id in enumerate(customer_ids):\n",
        "    similarity_scores = similarity_matrix[idx]\n",
        "    top_indices = similarity_scores.argsort()[::-1][1:4]  # Exclude the customer itself\n",
        "    lookalike_map[customer_id] = [\n",
        "        (customer_ids[i], round(similarity_scores[i], 3)) for i in top_indices\n",
        "    ]\n",
        "\n",
        "# Save Output\n",
        "lookalike_df = pd.DataFrame({\n",
        "    \"CustomerID\": list(lookalike_map.keys()),\n",
        "    \"Lookalikes\": [str(lookalike_map[cust_id]) for cust_id in lookalike_map]\n",
        "})\n",
        "lookalike_df.to_csv(\"Lookalike.csv\", index=False)\n",
        "\n",
        "print(\"Lookalike model completed. Output saved to Lookalike.csv.\")\n"
      ],
      "metadata": {
        "colab": {
          "base_uri": "https://localhost:8080/"
        },
        "id": "54f57iPYhYrS",
        "outputId": "74863e33-629d-4e23-85ea-669730c56af3"
      },
      "execution_count": 3,
      "outputs": [
        {
          "output_type": "stream",
          "name": "stdout",
          "text": [
            "Lookalike model completed. Output saved to Lookalike.csv.\n"
          ]
        }
      ]
    }
  ]
}